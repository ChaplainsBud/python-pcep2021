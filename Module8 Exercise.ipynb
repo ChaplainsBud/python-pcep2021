{
 "cells": [
  {
   "cell_type": "markdown",
   "metadata": {},
   "source": [
    "### Exercise 1\n",
    "Create a multiplication table from 1 to 10"
   ]
  },
  {
   "cell_type": "code",
   "execution_count": 3,
   "metadata": {},
   "outputs": [
    {
     "name": "stdout",
     "output_type": "stream",
     "text": [
      "1 * 1 = 1\n",
      "2 * 2 = 4\n",
      "3 * 3 = 9\n",
      "4 * 4 = 16\n",
      "5 * 5 = 25\n",
      "6 * 6 = 36\n",
      "7 * 7 = 49\n",
      "8 * 8 = 64\n",
      "9 * 9 = 81\n",
      "10 * 10 = 100\n"
     ]
    }
   ],
   "source": [
    "num = 1\n",
    "for row in range(1,11):\n",
    "    print(f\"{row} * {num} = {row*num}\")\n",
    "    num += 1"
   ]
  },
  {
   "cell_type": "markdown",
   "metadata": {},
   "source": [
    "### Exercise 2\n",
    "Write a program to find the Fibonacci numbers where each number is the sum of the two preceding ones, starting from 0 and 1. \n",
    "\n",
    "    e.g.\n",
    "    0, 1, 1, 2, 3, 5, 8, ...\n",
    "    \n",
    "Ask a user to enter a number of sequence. Generate the Fibonacci numbers in to a list. Then, print out the list.  \n",
    "\n",
    "The output should look something like this:\n",
    "\n",
    "    How many Fibonacci numbers would you like to generate? 10    \n",
    "    10 Fibonacci numbers are [0, 1, 1, 2, 3, 5, 8, 13, 21, 34]."
   ]
  },
  {
   "cell_type": "code",
   "execution_count": 5,
   "metadata": {},
   "outputs": [
    {
     "name": "stdout",
     "output_type": "stream",
     "text": [
      "Enter fibonacci count number 5\n",
      "[0, 1, 1, 2, 3]\n"
     ]
    }
   ],
   "source": [
    "# loop through numbers\n",
    "# ls.append.(cur_num + prev_num)\n",
    "\n",
    "ls = [0,1]\n",
    "\n",
    "count_num = int(input(\"Enter fibonacci count number \"))\n",
    "cur_num = 1\n",
    "prev_num = 0\n",
    "\n",
    "for x in range(0, count_num):\n",
    "      sum = ls[cur_num] + ls[prev_num]\n",
    "      ls.append(sum)\n",
    "      cur_num += 1\n",
    "      prev_num += 1\n",
    "\n",
    "ls.pop()\n",
    "ls.pop()\n",
    "print(ls)"
   ]
  },
  {
   "cell_type": "code",
   "execution_count": null,
   "metadata": {},
   "outputs": [],
   "source": []
  }
 ],
 "metadata": {
  "kernelspec": {
   "display_name": "Python 3",
   "language": "python",
   "name": "python3"
  },
  "language_info": {
   "codemirror_mode": {
    "name": "ipython",
    "version": 3
   },
   "file_extension": ".py",
   "mimetype": "text/x-python",
   "name": "python",
   "nbconvert_exporter": "python",
   "pygments_lexer": "ipython3",
   "version": "3.8.8"
  }
 },
 "nbformat": 4,
 "nbformat_minor": 4
}
