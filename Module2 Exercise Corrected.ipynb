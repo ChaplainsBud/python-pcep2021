{
 "cells": [
  {
   "cell_type": "markdown",
   "metadata": {},
   "source": [
    "## Exercises\n",
    "### Write the pseudocode for these problems. \n",
    "\n",
    "#### Define the problem by constructing an IPO diagram showing input, output, and processing steps\n",
    "Ask yourself\n",
    "- What control structures (sequence, selection and repetition) are required?\n",
    "- What variables are required?\n",
    "\n",
    "Show a check of your solution with **test data** for at least **two valid test cases**\n",
    "If you use the numbers provided in the example then the correct pseudocode will calculate the same result.\n",
    "    "
   ]
  },
  {
   "cell_type": "markdown",
   "metadata": {},
   "source": [
    "#### 1. Find the average score\n",
    "A program is needed to prompt the user operator for exam scores, calculate the average score and display the result to the screen. The average score is calculated as the sum of the scores divided by the number of scores.\n",
    "\n"
   ]
  },
  {
   "cell_type": "markdown",
   "metadata": {},
   "source": [
    "\n",
    "prompt: show user cursor, \"Enter exam scores.\"\n",
    "\n",
    "Loop: repeat prompt until command -> compute\n",
    "\n",
    "compute:\n",
    "\n",
    "a. count num of scores\n",
    "\n",
    "b. add scores. \n",
    "\n",
    "c. divide scores by num of scores\n",
    "\n",
    "display: the mean "
   ]
  },
  {
   "cell_type": "markdown",
   "metadata": {},
   "source": [
    "#### 2. How much water runs off a roof in a rain storm?\n",
    "To calculate the runoff from any given rainfall: Take the dimensions of the footprint of the roof and convert them to inches. (So, a 50' x 20' roof is 600\" x 240\"). Multiply the roof dimensions by the number of inches of rainfall. As an example, 600\" x 240\" x 1\" = 144,000 cubic inches of water for an inch of rainfall. Divide that result by 231 to get the number of gallons (because 1 gallon = 231 cubic inches). (144,000/231 = 623.38).\n"
   ]
  },
  {
   "cell_type": "markdown",
   "metadata": {},
   "source": [
    "Store width of roof\n",
    "\n",
    "Store length of roof\n",
    "\n",
    "width * 12\n",
    "\n",
    "length * 12\n",
    "\n",
    "store dimenion of width * length \n",
    "\n",
    "store the multiplication of dimension by rainfall\n",
    "\n",
    "divide store by 231\n",
    "\n",
    "display outcome of last result "
   ]
  },
  {
   "cell_type": "markdown",
   "metadata": {},
   "source": [
    "#### 3. Process customer record\n",
    "A program is required to read a customer’s name, a purchase amount and a tax code. The tax code has been validated and will be one of the following: 0 tax exempt (0%) 1 state sales tax only (3%) 2 federal and state sales tax (5%) 3 special sales tax (7%) The program must then compute the sales tax and the total amount due,and print the customer’s name, purchase amount, sales tax and total amount due."
   ]
  },
  {
   "cell_type": "markdown",
   "metadata": {},
   "source": [
    "\n",
    "read customer name\n",
    "read purchase amount\n",
    "read tax code\n",
    "\n",
    "store three values in an object\n",
    "\n",
    "If tax code 0, purchase amount by 0%\n",
    "If tax code 1, purchase amount by 3%\n",
    "If tax code 2, purchase amount by 5%\n",
    "If tax code 3, purchase amount by 7%\n",
    "\n",
    "Print customer name, purchase amount, purchase amount + tax, sales tax percent, total \n",
    "\n"
   ]
  },
  {
   "cell_type": "markdown",
   "metadata": {},
   "source": [
    "#### 4. Calculate employee's pay \n",
    "A program is required by a company to read an employee’s number, pay rate and the number of hours worked in a week. The program is then to validate the pay rate field and the hours worked field and, if valid, compute the employee’s weekly pay and then print it and the input data.\n",
    "\n",
    "Validation: According to the company’s rules, the maximum hours an employee can work per week is 60 hours, and the maximum hourly rate is $25.00 per hour. If the hours worked field or the hourly rate field is out of range, the input data and an appropriate message are to be printed and the employee’s weekly pay is not to be calculated.\n",
    "\n",
    "Weekly pay calculation: Weekly pay is calculated as hours worked times pay rate. If more than 35 hours are worked, payment for the overtime hours worked is calculated at time-and-a-half.\n",
    "\n",
    "\n"
   ]
  },
  {
   "cell_type": "markdown",
   "metadata": {},
   "source": [
    "\n",
    "\n",
    "Enter input:\n",
    "\n",
    "prompt number\n",
    "prompt pay rate\n",
    "prompt number of hours worked\n",
    "\n",
    "store in object  \n",
    "\n",
    "VALID = hours is <=60 \n",
    "\n",
    "Compute with object: \n",
    "\n",
    "IF valid, compute weekly pay, print both input and output \n",
    "\n",
    "Store weekly pay: hours worked\n",
    "store normalTime: hours <= 30 * $25.00\n",
    "hours overTime: hours >= 30 * $12.50\n",
    "\n",
    "print payment total \n",
    "\n",
    "IF invalid, print input data and error message, \"Your pay rate OR hours worked is out of range.\"\n",
    "\n",
    "\n",
    "\n",
    "\n"
   ]
  }
 ],
 "metadata": {
  "kernelspec": {
   "display_name": "Python 3",
   "language": "python",
   "name": "python3"
  },
  "language_info": {
   "codemirror_mode": {
    "name": "ipython",
    "version": 3
   },
   "file_extension": ".py",
   "mimetype": "text/x-python",
   "name": "python",
   "nbconvert_exporter": "python",
   "pygments_lexer": "ipython3",
   "version": "3.8.8"
  }
 },
 "nbformat": 4,
 "nbformat_minor": 2
}
