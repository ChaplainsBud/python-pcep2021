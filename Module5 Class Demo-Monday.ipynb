{
 "cells": [
  {
   "cell_type": "markdown",
   "metadata": {},
   "source": [
    "### random number generator"
   ]
  },
  {
   "cell_type": "code",
   "execution_count": 1,
   "metadata": {},
   "outputs": [
    {
     "data": {
      "text/plain": [
       "0.959035390639023"
      ]
     },
     "execution_count": 1,
     "metadata": {},
     "output_type": "execute_result"
    }
   ],
   "source": [
    "import random \n",
    "\n",
    "random.random()"
   ]
  },
  {
   "cell_type": "code",
   "execution_count": null,
   "metadata": {},
   "outputs": [],
   "source": [
    "import random as rand"
   ]
  },
  {
   "cell_type": "code",
   "execution_count": null,
   "metadata": {},
   "outputs": [],
   "source": [
    "rand.random()"
   ]
  },
  {
   "cell_type": "code",
   "execution_count": null,
   "metadata": {},
   "outputs": [],
   "source": [
    "# rand.randint(start, end) where start and end are enclusive\n",
    "\n",
    "print(rand.randint(1, 5))\n",
    "print(rand.randint(1, 5))\n",
    "print(rand.randint(1, 5))\n",
    "print(rand.randint(1, 5))\n",
    "print(rand.randint(1, 5))"
   ]
  },
  {
   "cell_type": "code",
   "execution_count": null,
   "metadata": {},
   "outputs": [],
   "source": [
    "rand.randint(10, 19)"
   ]
  },
  {
   "cell_type": "markdown",
   "metadata": {},
   "source": [
    "### round( arg [, decimal_places] )"
   ]
  },
  {
   "cell_type": "code",
   "execution_count": 2,
   "metadata": {},
   "outputs": [
    {
     "data": {
      "text/plain": [
       "3"
      ]
     },
     "execution_count": 2,
     "metadata": {},
     "output_type": "execute_result"
    }
   ],
   "source": [
    "round(3.142857)"
   ]
  },
  {
   "cell_type": "code",
   "execution_count": 3,
   "metadata": {},
   "outputs": [
    {
     "data": {
      "text/plain": [
       "3.0"
      ]
     },
     "execution_count": 3,
     "metadata": {},
     "output_type": "execute_result"
    }
   ],
   "source": [
    "round(3.142857, 0)"
   ]
  },
  {
   "cell_type": "code",
   "execution_count": 15,
   "metadata": {},
   "outputs": [
    {
     "data": {
      "text/plain": [
       "3.1"
      ]
     },
     "execution_count": 15,
     "metadata": {},
     "output_type": "execute_result"
    }
   ],
   "source": [
    "round(3.142857, 1)"
   ]
  },
  {
   "cell_type": "code",
   "execution_count": null,
   "metadata": {},
   "outputs": [],
   "source": [
    "round(3.142857, 5)"
   ]
  },
  {
   "cell_type": "code",
   "execution_count": null,
   "metadata": {},
   "outputs": [],
   "source": [
    "round(100, 4)"
   ]
  },
  {
   "cell_type": "code",
   "execution_count": null,
   "metadata": {},
   "outputs": [],
   "source": [
    "round(100.1, 3)"
   ]
  },
  {
   "cell_type": "code",
   "execution_count": null,
   "metadata": {},
   "outputs": [],
   "source": [
    "round(100.12, 3)"
   ]
  },
  {
   "cell_type": "code",
   "execution_count": null,
   "metadata": {},
   "outputs": [],
   "source": []
  },
  {
   "cell_type": "markdown",
   "metadata": {},
   "source": [
    "## Exercise 1\n",
    "\n",
    "Ask a user for two numbers. Then \n",
    "1. generate 2 random numbers between 2 numbers provided by a user. \n",
    "2. compute two numbers' multiplication\n",
    "3. compute two numbers' division - round the result to the nearest 100th places (2 decimal places) using round() function. \n",
    "4. print out computation results using string format method. \n",
    "5. print out computation results using f-string\n"
   ]
  },
  {
   "cell_type": "code",
   "execution_count": 6,
   "metadata": {},
   "outputs": [
    {
     "name": "stdout",
     "output_type": "stream",
     "text": [
      "Enter number: 2\n",
      "Enter number: 5\n",
      "2 5\n",
      "3\n"
     ]
    }
   ],
   "source": [
    "# Do you need to import any library?\n",
    "\n",
    "import random as rand \n",
    "\n",
    "# get two numbers from a user - what data type is it?\n",
    "\n",
    "start_n = int(input(\"Enter number: \"))\n",
    "end_n = int(input(\"Enter number: \"))\n",
    "\n",
    "print(start_n, end_n)\n",
    "\n",
    "ran_num = rand.randint(start_n, end_n)   # BUG: must input smaller number first\n",
    "\n",
    "print(ran_num)"
   ]
  },
  {
   "cell_type": "code",
   "execution_count": 21,
   "metadata": {},
   "outputs": [
    {
     "name": "stdout",
     "output_type": "stream",
     "text": [
      "0.76 0.97\n"
     ]
    }
   ],
   "source": [
    "# generate two random numbers\n",
    "import random as rand\n",
    "\n",
    "num1 = rand.random()\n",
    "num2 = rand.random()\n",
    "\n",
    "\n"
   ]
  },
  {
   "cell_type": "code",
   "execution_count": 24,
   "metadata": {},
   "outputs": [
    {
     "name": "stdout",
     "output_type": "stream",
     "text": [
      "0.4440489660542697\n",
      "0.44\n"
     ]
    }
   ],
   "source": [
    "import random as rand\n",
    "\n",
    "num1 = rand.random()\n",
    "num2 = rand.random()\n",
    "num3 = 0.00\n",
    "\n",
    "# compute multipliction\n",
    "num3 += num1 * num2\n",
    "\n",
    "# compute division\n",
    "num3 += num1 * num2\n",
    "\n",
    "# Round the result to the nearest 100th places (2 decimal places) using round() function.\n",
    "print(num3)\n",
    "\n",
    "\n",
    "num3 = round(num3, 2)\n",
    "\n",
    "\n",
    "print(num3)\n"
   ]
  },
  {
   "cell_type": "code",
   "execution_count": 34,
   "metadata": {},
   "outputs": [
    {
     "data": {
      "text/plain": [
       "'The computation results are 0.44'"
      ]
     },
     "execution_count": 34,
     "metadata": {},
     "output_type": "execute_result"
    }
   ],
   "source": [
    "# print out computation results using string format method\n",
    "num3 = 0.44\n",
    "\n",
    "str = \"The computation results are {num3:.2f}\"\n",
    "str.format(num3 = 0.44)"
   ]
  },
  {
   "cell_type": "code",
   "execution_count": 25,
   "metadata": {},
   "outputs": [
    {
     "name": "stdout",
     "output_type": "stream",
     "text": [
      "0.44\n"
     ]
    }
   ],
   "source": [
    "# print out computation results using f-string\n",
    "num3 = 0.44\n",
    "\n",
    "print(f\"{num3}\")"
   ]
  },
  {
   "cell_type": "code",
   "execution_count": null,
   "metadata": {},
   "outputs": [],
   "source": []
  },
  {
   "cell_type": "markdown",
   "metadata": {},
   "source": [
    "### Customized Functions"
   ]
  },
  {
   "cell_type": "code",
   "execution_count": 4,
   "metadata": {},
   "outputs": [],
   "source": [
    "def my_function() :\n",
    "    x = rand.randint(2, 5)\n",
    "    print(x)\n",
    "    print(\"#\" * x)\n"
   ]
  },
  {
   "cell_type": "code",
   "execution_count": 9,
   "metadata": {},
   "outputs": [
    {
     "name": "stdout",
     "output_type": "stream",
     "text": [
      "3\n",
      "###\n"
     ]
    }
   ],
   "source": [
    "import random as rand\n",
    "\n",
    "def my_function() :\n",
    "    x = rand.randint(2, 5)\n",
    "    print(x)\n",
    "    print(\"#\" * x)\n",
    "\n",
    "\n",
    "my_function()\n",
    "\n",
    "# print(my_function())    # check what has printed"
   ]
  },
  {
   "cell_type": "code",
   "execution_count": 10,
   "metadata": {},
   "outputs": [
    {
     "name": "stdout",
     "output_type": "stream",
     "text": [
      "x=4\t----\n",
      "None\n",
      "x=7\t-------\n",
      "x=12\t------------\n"
     ]
    }
   ],
   "source": [
    "# customized function with arguments\n",
    "import random as rand\n",
    "\n",
    "def my_function2(start_no, end_no) :\n",
    "    x = rand.randint(start_no, end_no)\n",
    "    pattern = \"-\" * x\n",
    "    print(f\"x={x}\\t{pattern}\")\n",
    "    return                         # returns None\n",
    "    \n",
    "print(my_function2(1, 5))   # only returns None when printed\n",
    "my_function2(1, 10)\n",
    "my_function2(10, 14)"
   ]
  },
  {
   "cell_type": "code",
   "execution_count": 11,
   "metadata": {},
   "outputs": [
    {
     "name": "stdout",
     "output_type": "stream",
     "text": [
      "x=14\t--------------\n",
      "x=14\t--------------\n",
      "x=11\t-----------\n"
     ]
    }
   ],
   "source": [
    "my_function2(10, 14)\n",
    "my_function2(10, 14)\n",
    "my_function2(10, 14)"
   ]
  },
  {
   "cell_type": "code",
   "execution_count": null,
   "metadata": {},
   "outputs": [],
   "source": [
    "# customized function with arguments and return value\n",
    "\n",
    "import random as rand\n",
    "\n",
    "def my_function3(start_no, end_no) :\n",
    "    x = rand.randint(start_no, end_no)\n",
    "    pattern = \"-\" * x\n",
    "    result = f\"x={x}\\t{pattern}\"\n",
    "    return result                        # returns a string\n",
    "    \n",
    "print(my_function3(1, 5))\n",
    "\n",
    "print(\"-\"*20)\n",
    "\n",
    "my_function3(1, 5)               # why didn't this get printed?\n",
    "\n",
    "print(\"-\"*20)\n",
    "\n",
    "print(my_function3(1, 5))    # with no print in function, one must print outside of function"
   ]
  },
  {
   "cell_type": "code",
   "execution_count": null,
   "metadata": {},
   "outputs": [],
   "source": [
    "# returning something with a function\n",
    "\n",
    "def add(a, b):\n",
    "    print(f\"ADDING {a} + {b}\")\n",
    "    # without the f, it looks like ADDING {a} + {b}\n",
    "    # with the f, it looks like ADDING 30 + 5\n",
    "    return a + b\n",
    "\n",
    "def subtract(a, b):\n",
    "    #print(f\"SUBTRACTING {a} - {b}\")\n",
    "    c = a - b\n",
    "    #print(\"return with \", c)\n",
    "    return c\n",
    "\n",
    "def multiply(a, b):\n",
    "    print(f\"MULTIPLYING {a} * {b}\")\n",
    "    return a * b\n",
    "\n",
    "def divide(a, b):\n",
    "    print(f\"DIVIDING {a} / {b}\")\n",
    "    return a / b\n"
   ]
  },
  {
   "cell_type": "code",
   "execution_count": null,
   "metadata": {},
   "outputs": [],
   "source": [
    "print(\"Let's do some math with just functions!\")\n",
    "\n",
    "numb1 = int(input(\"Enter an integer: \"))\n",
    "numb2 = float(input(\"Enter a float: \"))\n",
    "\n",
    "addition = add(numb1, numb2) \n",
    "subtraction = subtract(numb1, numb2)  \n",
    "multiplication = multiply(numb1, numb2) \n",
    "division = divide(numb1, numb2) \n",
    "\n",
    "print(f\"Before: numb1 = {numb1}\\tnumb2 = {numb2}\\n\\n\")\n",
    "print(f\"\"\"\\n\\naddition: {addition}\n",
    "subtraction: {subtraction}\n",
    "multiplication: {multiplication}\n",
    "division: {division}\"\"\")"
   ]
  },
  {
   "cell_type": "code",
   "execution_count": null,
   "metadata": {},
   "outputs": [],
   "source": [
    "print(f\"After: numb1 = {numb1}\\tnumb2 = {numb2}\\n\\n\")"
   ]
  },
  {
   "cell_type": "code",
   "execution_count": null,
   "metadata": {},
   "outputs": [],
   "source": [
    "def add(a, b, c):\n",
    "    return a + b + c\n",
    "\n",
    "def multiply(a, b, c):\n",
    "    return a * b * c"
   ]
  },
  {
   "cell_type": "code",
   "execution_count": null,
   "metadata": {},
   "outputs": [],
   "source": [
    "print(add(1, 2))"
   ]
  },
  {
   "cell_type": "markdown",
   "metadata": {},
   "source": [
    "### Function with default value(s)"
   ]
  },
  {
   "cell_type": "code",
   "execution_count": null,
   "metadata": {},
   "outputs": [],
   "source": [
    "def add(a, b, c=0):\n",
    "    return a + b + c\n",
    "\n",
    "def multiply(a, b, c=1):\n",
    "    return a * b * c"
   ]
  },
  {
   "cell_type": "code",
   "execution_count": null,
   "metadata": {},
   "outputs": [],
   "source": [
    "print(f\"\"\"\n",
    "10 + 20 = {add(10, 20)}\n",
    "10 + 20 + 30 = {add(10, 20, 30)}\n",
    "10 * 2 = {multiply(10, 2)}\n",
    "10 * 2 * 3 = {multiply(10, 2, 3)}\n",
    "\"\"\")"
   ]
  },
  {
   "cell_type": "code",
   "execution_count": null,
   "metadata": {},
   "outputs": [],
   "source": [
    "def divide(a=1, b=1):\n",
    "    return a / b"
   ]
  },
  {
   "cell_type": "code",
   "execution_count": null,
   "metadata": {},
   "outputs": [],
   "source": [
    "print(divide(9, 3))"
   ]
  },
  {
   "cell_type": "code",
   "execution_count": null,
   "metadata": {},
   "outputs": [],
   "source": [
    "print(divide(9))"
   ]
  },
  {
   "cell_type": "code",
   "execution_count": null,
   "metadata": {},
   "outputs": [],
   "source": [
    "print(divide(b=9))"
   ]
  },
  {
   "cell_type": "code",
   "execution_count": null,
   "metadata": {},
   "outputs": [],
   "source": [
    "def matching(person1, person2) :\n",
    "    print(person1 + \" likes \" + person2)\n",
    "\n",
    "name1 = \"Miss Piggy\"\n",
    "name2 = \"Kermit\"\n",
    "matching(name1, name2)\n",
    "    "
   ]
  },
  {
   "cell_type": "code",
   "execution_count": null,
   "metadata": {},
   "outputs": [],
   "source": [
    "matching(name2, name1)"
   ]
  },
  {
   "cell_type": "code",
   "execution_count": null,
   "metadata": {},
   "outputs": [],
   "source": [
    "matching(person1= name1, person2=name2)\n",
    "matching(person2=name2, person1= name1)"
   ]
  },
  {
   "cell_type": "code",
   "execution_count": 12,
   "metadata": {},
   "outputs": [
    {
     "name": "stdout",
     "output_type": "stream",
     "text": [
      "retval = 10\n",
      "x = 5\n"
     ]
    }
   ],
   "source": [
    "def double_func(x) :\n",
    "    x *= 2\n",
    "    return x\n",
    "\n",
    "\n",
    "x = 5\n",
    "retval = double_func(x)\n",
    "print(f\"retval = {retval}\")\n",
    "print(f\"x = {x}\")\n"
   ]
  },
  {
   "cell_type": "code",
   "execution_count": null,
   "metadata": {},
   "outputs": [],
   "source": [
    "x = \"what?\"\n",
    "retval = double_func(x)\n",
    "print(f\"retval = {retval}\")\n",
    "print(f\"x = {x}\")\n"
   ]
  },
  {
   "cell_type": "markdown",
   "metadata": {},
   "source": [
    "## Exercise 2\n",
    "Write a function called compute() to calculate an area and a perimeter of a rectangle.\n",
    "compute() function will be used in a program as below cell. Fix bugs and edit cells if needed.\n",
    "Run all necessary cells in order to show your function works.\n",
    "\n",
    "The output should be something like this:\n",
    "\n",
    "    Please enter length: 25\n",
    "    Please enter width: 10\n",
    "\n",
    "    Area is 250\n",
    "    Perimeter is 70"
   ]
  },
  {
   "cell_type": "code",
   "execution_count": 40,
   "metadata": {},
   "outputs": [
    {
     "name": "stdout",
     "output_type": "stream",
     "text": [
      "The area is 10 and the perimeter is 14.\n"
     ]
    }
   ],
   "source": [
    "# write code for function called compute() here\n",
    "def compute(width, length) :\n",
    "    area = width * length\n",
    "    perm = width * 2 + length * 2\n",
    "    \n",
    "    return f\"The area is {area} and the perimeter is {perm}.\"\n",
    "\n",
    "print(compute(5,2))"
   ]
  },
  {
   "cell_type": "code",
   "execution_count": 43,
   "metadata": {},
   "outputs": [
    {
     "name": "stdout",
     "output_type": "stream",
     "text": [
      "The Area and Perimeter Program\n",
      "Please enter length: 3\n",
      "Please enter width: 5\n",
      "\n"
     ]
    },
    {
     "data": {
      "text/plain": [
       "'The area is 15 and the perimeter is 16.'"
      ]
     },
     "execution_count": 43,
     "metadata": {},
     "output_type": "execute_result"
    }
   ],
   "source": [
    "# run this cell and fix any errors\n",
    "\n",
    "def compute(width, length) :\n",
    "    area = width * length\n",
    "    perm = width * 2 + length * 2\n",
    "    \n",
    "    return f\"The area is {area} and the perimeter is {perm}.\"\n",
    "\n",
    "print(\"The Area and Perimeter Program\")  \n",
    "\n",
    "length = int(input(\"Please enter length: \"))\n",
    "width = int(input(\"Please enter width: \"))\n",
    "\n",
    "print(\"\")\n",
    "compute(width, length)\n",
    "compute(length, width)"
   ]
  },
  {
   "cell_type": "code",
   "execution_count": null,
   "metadata": {},
   "outputs": [],
   "source": []
  },
  {
   "cell_type": "markdown",
   "metadata": {},
   "source": [
    "### Lambda Functions"
   ]
  },
  {
   "cell_type": "code",
   "execution_count": 44,
   "metadata": {},
   "outputs": [
    {
     "name": "stdout",
     "output_type": "stream",
     "text": [
      "10\n"
     ]
    }
   ],
   "source": [
    "value = lambda a : a * 2\n",
    "print(value(5))"
   ]
  },
  {
   "cell_type": "code",
   "execution_count": 45,
   "metadata": {},
   "outputs": [
    {
     "name": "stdout",
     "output_type": "stream",
     "text": [
      "20\n"
     ]
    }
   ],
   "source": [
    "print(value(10))"
   ]
  },
  {
   "cell_type": "code",
   "execution_count": 46,
   "metadata": {},
   "outputs": [
    {
     "name": "stdout",
     "output_type": "stream",
     "text": [
      "thank goodness\n"
     ]
    }
   ],
   "source": [
    "sample = lambda a : a\n",
    "print(sample(\"thank goodness\"))"
   ]
  },
  {
   "cell_type": "code",
   "execution_count": 47,
   "metadata": {},
   "outputs": [
    {
     "name": "stdout",
     "output_type": "stream",
     "text": [
      "<function func.<locals>.<lambda> at 0x7fbf8d7943a0>\n"
     ]
    }
   ],
   "source": [
    "def func(n) :\n",
    "    return lambda a : a * n\n",
    "    \n",
    "print(func(3))    # what is happening?  -> there's no 'a', only 'n'"
   ]
  },
  {
   "cell_type": "code",
   "execution_count": 48,
   "metadata": {},
   "outputs": [
    {
     "name": "stdout",
     "output_type": "stream",
     "text": [
      "inside func: n = 3\n",
      "<function func.<locals>.<lambda> at 0x7fbf8d794160>\n"
     ]
    }
   ],
   "source": [
    "def func(n) :\n",
    "    print(f\"inside func: n = {n}\")\n",
    "    return lambda a : a * n\n",
    "    \n",
    "print(func(3))    # what does func() function return?"
   ]
  },
  {
   "cell_type": "code",
   "execution_count": null,
   "metadata": {},
   "outputs": [],
   "source": [
    "db_val = func(2)    \n",
    "print(db_val(5))    # n = 2, a = 5"
   ]
  },
  {
   "cell_type": "code",
   "execution_count": null,
   "metadata": {},
   "outputs": [],
   "source": [
    "tri_val = func(3)\n",
    "print(tri_val(5))"
   ]
  },
  {
   "cell_type": "markdown",
   "metadata": {},
   "source": [
    "## Exercise 3\n",
    "Write a lambda function to convert an integer to a binary number. <br>\n",
    "Show that your lambda function works, using int() function."
   ]
  },
  {
   "cell_type": "code",
   "execution_count": 53,
   "metadata": {},
   "outputs": [
    {
     "name": "stdout",
     "output_type": "stream",
     "text": [
      "10\n",
      "0b100\n"
     ]
    }
   ],
   "source": [
    "# lambda function definition\n",
    "\n",
    "value2 = lambda a : bin(a)\n",
    "print(value2(4))"
   ]
  },
  {
   "cell_type": "code",
   "execution_count": 64,
   "metadata": {},
   "outputs": [
    {
     "name": "stdout",
     "output_type": "stream",
     "text": [
      "4\n"
     ]
    }
   ],
   "source": [
    "# confirm, using int() function\n",
    "\n",
    "value3 = int(value2(4), 2)\n",
    "print(value3)"
   ]
  },
  {
   "cell_type": "markdown",
   "metadata": {},
   "source": [
    "### Name Scope"
   ]
  },
  {
   "cell_type": "code",
   "execution_count": null,
   "metadata": {},
   "outputs": [],
   "source": [
    "msg = \"Great!\"\n",
    "\n",
    "def fun() :\n",
    "    print(msg)\n",
    "    \n",
    "fun()    "
   ]
  },
  {
   "cell_type": "code",
   "execution_count": null,
   "metadata": {},
   "outputs": [],
   "source": [
    "def fun2() :\n",
    "    print(msg2)\n",
    "    \n",
    "msg2 = \"You got this!\"\n",
    "fun2()"
   ]
  },
  {
   "cell_type": "code",
   "execution_count": null,
   "metadata": {},
   "outputs": [],
   "source": [
    "def fun3() :\n",
    "    msg3 = msg3 + \"!\"\n",
    "    print(msg3)\n",
    "    \n",
    "msg3 = \"Oh, dear\"\n",
    "fun3()\n",
    "print(f\"After func3(): msg={msg3}\")"
   ]
  },
  {
   "cell_type": "code",
   "execution_count": null,
   "metadata": {},
   "outputs": [],
   "source": [
    "msg4 = \"Oh, dear\"\n",
    "\n",
    "def fun4() :\n",
    "    msg4 = msg4 + \"!\"\n",
    "    print(msg4)\n",
    "    \n",
    "\n",
    "fun4()\n",
    "print(f\"After func4(): msg={msg4}\")"
   ]
  },
  {
   "cell_type": "code",
   "execution_count": null,
   "metadata": {},
   "outputs": [],
   "source": [
    "def fun3() :\n",
    "    global msg3\n",
    "    \n",
    "    msg3 = msg3 + \"!\"\n",
    "    print(msg3)\n",
    "    \n",
    "msg3 = \"Oh, yeah\"\n",
    "fun3()\n",
    "print(f\"After func3(): msg={msg3}\")"
   ]
  },
  {
   "cell_type": "code",
   "execution_count": null,
   "metadata": {},
   "outputs": [],
   "source": [
    "def fun4(msg) :\n",
    "    msg = msg + \"!\"\n",
    "    print(msg)\n",
    "    \n",
    "msg3 = \"Oh, yeah\"\n",
    "fun4(msg3)\n",
    "print(f\"After func4(): msg={msg3}\")"
   ]
  },
  {
   "cell_type": "code",
   "execution_count": null,
   "metadata": {},
   "outputs": [],
   "source": [
    "def fun5(msg3) :\n",
    "    msg3 = msg3 + \"!\"\n",
    "    print(msg3)\n",
    "    \n",
    "msg3 = \"Oh, yeah\"\n",
    "fun5(msg3)\n",
    "print(f\"After func5(): msg={msg3}\")"
   ]
  },
  {
   "cell_type": "code",
   "execution_count": null,
   "metadata": {},
   "outputs": [],
   "source": [
    "def fun6(msg) :\n",
    "    msg = msg + \"***\\n\"\n",
    "    \n",
    "    def fun7(x) :\n",
    "        x = x + '$$$\\n'\n",
    "        print(x)\n",
    "        return x\n",
    "    \n",
    "    msg = fun7(msg)\n",
    "    print(msg)\n",
    "    \n",
    "    \n",
    "fun6(\"hello\")    "
   ]
  },
  {
   "cell_type": "code",
   "execution_count": null,
   "metadata": {},
   "outputs": [],
   "source": [
    "# what is going on?\n",
    "fun6('try')\n",
    "fun7('now')   "
   ]
  },
  {
   "cell_type": "code",
   "execution_count": null,
   "metadata": {},
   "outputs": [],
   "source": [
    "\n",
    "def add (x) :\n",
    "    return x + 2\n",
    "\n",
    "add(add(add(3)))   # what is going on?"
   ]
  },
  {
   "cell_type": "code",
   "execution_count": null,
   "metadata": {},
   "outputs": [],
   "source": []
  },
  {
   "cell_type": "markdown",
   "metadata": {},
   "source": [
    "### Simultaneous Assignment"
   ]
  },
  {
   "cell_type": "code",
   "execution_count": null,
   "metadata": {},
   "outputs": [],
   "source": [
    "x = 1\n",
    "y = 3\n",
    "\n",
    "print(f\"x = {x} y={y}\")"
   ]
  },
  {
   "cell_type": "code",
   "execution_count": null,
   "metadata": {},
   "outputs": [],
   "source": [
    "x, y = 1, 3\n",
    "\n",
    "print(f\"x = {x} y={y}\")"
   ]
  },
  {
   "cell_type": "code",
   "execution_count": null,
   "metadata": {},
   "outputs": [],
   "source": [
    "a = 11\n",
    "b = 54.2\n",
    "c = \"apple pie\"\n",
    "print(f\"Before: a={a} b={b} c={c}\")\n",
    "\n",
    "temp = a\n",
    "a = b\n",
    "b = c\n",
    "c = a\n",
    "print(f\"After: a={a} b={b} c={c}\")"
   ]
  },
  {
   "cell_type": "code",
   "execution_count": null,
   "metadata": {},
   "outputs": [],
   "source": [
    "a, b, c = 11, 54.2, \"apple pie\"\n",
    "print(f\"Before: a={a} b={b} c={c}\")\n",
    "\n",
    "a, b, c = b, c, a\n",
    "print(f\"After: a={a} b={b} c={c}\")"
   ]
  },
  {
   "cell_type": "code",
   "execution_count": null,
   "metadata": {},
   "outputs": [],
   "source": [
    "def func() :\n",
    "    return 1, 3\n",
    "\n",
    "x, y = func()\n",
    "print(f\"x = {x} y={y}\")"
   ]
  },
  {
   "cell_type": "code",
   "execution_count": null,
   "metadata": {},
   "outputs": [],
   "source": [
    "def switch(val1, val2) :\n",
    "    return val2, val1\n",
    "\n",
    "a, b = 10, 99.9\n",
    "print(f\"a = {a} b={b}\")\n",
    "\n",
    "a, b = switch(a, b)\n",
    "print(f\"a = {a} b={b}\")"
   ]
  }
 ],
 "metadata": {
  "kernelspec": {
   "display_name": "Python 3",
   "language": "python",
   "name": "python3"
  },
  "language_info": {
   "codemirror_mode": {
    "name": "ipython",
    "version": 3
   },
   "file_extension": ".py",
   "mimetype": "text/x-python",
   "name": "python",
   "nbconvert_exporter": "python",
   "pygments_lexer": "ipython3",
   "version": "3.8.8"
  }
 },
 "nbformat": 4,
 "nbformat_minor": 4
}
