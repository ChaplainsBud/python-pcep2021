{
 "cells": [
  {
   "cell_type": "markdown",
   "metadata": {},
   "source": [
    "### Exercise 1\n",
    "Convert following decimal number to a binary number by hand:\n",
    "\n",
    "    61\n",
    "    15\n",
    "    71\n",
    "    "
   ]
  },
  {
   "cell_type": "code",
   "execution_count": 2,
   "metadata": {},
   "outputs": [],
   "source": [
    "\n",
    "# 128,64,32,16 8,4,2,1\n",
    "\n",
    "#61:   0+0+32+16 +8+4+0+1 \n",
    "a = \"0b00111101\"\n",
    "\n",
    "#15:   0+0+0+0   +8+4+2+1\n",
    "b = \"0b00001111\"\n",
    "\n",
    "#71  0+64+0+0 0+4+2+1\n",
    "seventy_one = \"0b01000111\""
   ]
  },
  {
   "cell_type": "markdown",
   "metadata": {},
   "source": [
    "### Exercise 2\n",
    "When a = 61 and b = 15, what is the result of following bitwise opertion? Use inline comments to show your result in a binary number. Find your answer by hand.\n",
    "\n",
    "    a & b\n",
    "    a | b\n",
    "    a ^ b\n",
    "    a >> 2\n",
    "    "
   ]
  },
  {
   "cell_type": "code",
   "execution_count": 3,
   "metadata": {},
   "outputs": [],
   "source": [
    "#QUESTION: in Python terminal, 6 bits are used, not a byte of 8 bits. Should I only use 6 here? \n",
    "\n",
    "# convert a in to a binary number\n",
    "\n",
    "#61:   0+0+32+16 +8+4+0+1 \n",
    "a = \"0b00111101\"\n",
    "\n",
    "#QUESTION: in Python terminal, 4 bits are used, not a byte of 8 bits. Should I only use 6 here? \n",
    "\n",
    "\n",
    "# convert b in to a binary number\n",
    "\n",
    "#15:   0+0+0+0   +8+4+2+1\n",
    "b = \"0b00001111\"\n",
    "\n",
    "\n",
    "\n",
    "\n",
    "\n",
    "\n"
   ]
  },
  {
   "cell_type": "code",
   "execution_count": null,
   "metadata": {},
   "outputs": [],
   "source": [
    "# a & b\n",
    "\n",
    "#a 00111101\n",
    "#b 00001111\n",
    "\n",
    "#= 00001101    -> python3: '0b1101'\n"
   ]
  },
  {
   "cell_type": "code",
   "execution_count": null,
   "metadata": {},
   "outputs": [],
   "source": [
    "# a | b\n",
    "\n",
    "#a 00111101\n",
    "#b 00001111\n",
    "\n",
    "#= 00111111  -> python3: '0b111111'\n"
   ]
  },
  {
   "cell_type": "code",
   "execution_count": null,
   "metadata": {},
   "outputs": [],
   "source": [
    "# a ^ b\n",
    "\n",
    "#a 00111101\n",
    "#b 00001111\n",
    "\n",
    "#= 00110010  ->python3: '0b110010'\n"
   ]
  },
  {
   "cell_type": "code",
   "execution_count": 4,
   "metadata": {},
   "outputs": [],
   "source": [
    "# a >> 2\n",
    "\n",
    "#a 00111101\n",
    "\n",
    "#= 00001111  -> python3: '0b1111'\n"
   ]
  },
  {
   "cell_type": "markdown",
   "metadata": {},
   "source": [
    "### Exercise 3\n",
    "Ask a user for a code and store that answer. \n",
    "If the answer is <b>grey</b> then print \"You found secret code.\"\n",
    "Otherwise print that the entered code is not the secret code."
   ]
  },
  {
   "cell_type": "code",
   "execution_count": 11,
   "metadata": {},
   "outputs": [
    {
     "name": "stdout",
     "output_type": "stream",
     "text": [
      "Enter code: tomato\n",
      "That code is not the secret code\n"
     ]
    }
   ],
   "source": [
    "code = input(\"Enter code: \")\n",
    "\n",
    "if code == \"grey\" :\n",
    "    print(\"You found the secret code\")\n",
    "else: \n",
    "    print(\"That code is not the secret code\")\n",
    "        \n",
    "        \n",
    "   \n"
   ]
  },
  {
   "cell_type": "markdown",
   "metadata": {},
   "source": [
    "### Exercise 4\n",
    "Ask for an exam score and store that number. If the number is greater than 100, then print out 'You cannot have an exam score higher than 100'. If the number doesn't exceeed 100 but is greater than or equal to 75, then print out 'You did great on your exam!'. Otherwise if they scored lower than 75, then print out 'You need to study harder'."
   ]
  },
  {
   "cell_type": "code",
   "execution_count": 1,
   "metadata": {},
   "outputs": [
    {
     "name": "stdout",
     "output_type": "stream",
     "text": [
      "Enter exam score: 50\n",
      "You need to study harder\n"
     ]
    }
   ],
   "source": [
    "exam_score = int(input(\"Enter exam score: \"))\n",
    "\n",
    "if exam_score > 100 :\n",
    "    print(\"You cannot have an exam score higher than 100\")\n",
    "elif exam_score >= 75 :\n",
    "    print(\"You did great on your exam!\")\n",
    "else:\n",
    "    print(\"You need to study harder\")"
   ]
  },
  {
   "cell_type": "markdown",
   "metadata": {},
   "source": [
    "### Exercise 5\n",
    "Write a function to convert a test score to a grade where  \n",
    " - 90 - 100: A\n",
    " - 80 - 89:  B\n",
    " - 70 - 79:  C\n",
    " - 60 - 69:  D\n",
    " - < 60   :  F\n",
    " \n",
    "If a score is not between 0 and 100 then print out an error message. In the program, ask the user for a score and then call your function. "
   ]
  },
  {
   "cell_type": "code",
   "execution_count": 4,
   "metadata": {},
   "outputs": [],
   "source": [
    "# define your function\n",
    "\n",
    "def grader(points):\n",
    "    \n",
    "    if points < 0 or points > 100:\n",
    "        print(\"out of range\")\n",
    "    elif points >= 90:\n",
    "        print(\"A\")\n",
    "    elif points >= 80:\n",
    "        print(\"B\")\n",
    "    elif points >= 70:\n",
    "        print(\"C\")\n",
    "    elif points >= 60:\n",
    "        print(\"D\")\n",
    "    else:\n",
    "        print(\"F\")\n",
    "    \n"
   ]
  },
  {
   "cell_type": "code",
   "execution_count": 7,
   "metadata": {},
   "outputs": [
    {
     "name": "stdout",
     "output_type": "stream",
     "text": [
      "Enter score: 99\n",
      "A\n"
     ]
    }
   ],
   "source": [
    "# ask the user for a score and then call your function\n",
    "score = int(input(\"Enter score: \"))\n",
    "\n",
    "grader(score)\n"
   ]
  },
  {
   "cell_type": "code",
   "execution_count": null,
   "metadata": {},
   "outputs": [],
   "source": []
  }
 ],
 "metadata": {
  "kernelspec": {
   "display_name": "Python 3",
   "language": "python",
   "name": "python3"
  },
  "language_info": {
   "codemirror_mode": {
    "name": "ipython",
    "version": 3
   },
   "file_extension": ".py",
   "mimetype": "text/x-python",
   "name": "python",
   "nbconvert_exporter": "python",
   "pygments_lexer": "ipython3",
   "version": "3.8.8"
  }
 },
 "nbformat": 4,
 "nbformat_minor": 4
}
